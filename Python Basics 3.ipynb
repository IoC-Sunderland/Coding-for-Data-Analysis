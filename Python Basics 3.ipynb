{
 "cells": [
  {
   "cell_type": "markdown",
   "metadata": {},
   "source": [
    "# Python Basics 3\n"
   ]
  },
  {
   "cell_type": "markdown",
   "metadata": {},
   "source": [
    "More examples of Python operations."
   ]
  },
  {
   "cell_type": "markdown",
   "metadata": {},
   "source": [
    "<strong>Files:</strong>"
   ]
  },
  {
   "cell_type": "code",
   "execution_count": 1,
   "metadata": {},
   "outputs": [],
   "source": [
    "file = open('DATA/AustralianAnimals.txt')"
   ]
  },
  {
   "cell_type": "code",
   "execution_count": 57,
   "metadata": {},
   "outputs": [
    {
     "data": {
      "text/plain": [
       "['Kangaroo, marsupial\\n',\n",
       " 'Koala, marsupial\\n',\n",
       " 'Wallaby, marsupial\\n',\n",
       " 'Echidna, monotreme\\n',\n",
       " 'Dingo, mammal\\n',\n",
       " 'Tasmanian devil, marsupial\\n',\n",
       " 'Platypus, monotreme\\n',\n",
       " 'Tasmanian devil, marsupial']"
      ]
     },
     "execution_count": 57,
     "metadata": {},
     "output_type": "execute_result"
    }
   ],
   "source": [
    "file.readlines()"
   ]
  },
  {
   "cell_type": "code",
   "execution_count": 58,
   "metadata": {},
   "outputs": [
    {
     "name": "stdout",
     "output_type": "stream",
     "text": [
      "Kangaroo, marsupial\n",
      "Koala, marsupial\n",
      "Wallaby, marsupial\n",
      "Echidna, monotreme\n",
      "Dingo, mammal\n",
      "Tasmanian devil, marsupial\n",
      "Platypus, monotreme\n",
      "Tasmanian devil, marsupial"
     ]
    }
   ],
   "source": [
    "with open('DATA/AustralianAnimals.txt', 'r') as animals:\n",
    "    for animal in animals.readlines():  \n",
    "        print(animal, end='')"
   ]
  },
  {
   "cell_type": "code",
   "execution_count": 59,
   "metadata": {},
   "outputs": [],
   "source": [
    "file.close()"
   ]
  },
  {
   "cell_type": "code",
   "execution_count": 60,
   "metadata": {},
   "outputs": [
    {
     "ename": "ValueError",
     "evalue": "I/O operation on closed file.",
     "output_type": "error",
     "traceback": [
      "\u001b[0;31m---------------------------------------------------------------------------\u001b[0m",
      "\u001b[0;31mValueError\u001b[0m                                Traceback (most recent call last)",
      "\u001b[0;32m<ipython-input-60-5d3c54c9c0d3>\u001b[0m in \u001b[0;36m<module>\u001b[0;34m\u001b[0m\n\u001b[0;32m----> 1\u001b[0;31m \u001b[0mfile\u001b[0m\u001b[0;34m.\u001b[0m\u001b[0mreadlines\u001b[0m\u001b[0;34m(\u001b[0m\u001b[0;34m)\u001b[0m\u001b[0;34m\u001b[0m\u001b[0;34m\u001b[0m\u001b[0m\n\u001b[0m",
      "\u001b[0;31mValueError\u001b[0m: I/O operation on closed file."
     ]
    }
   ],
   "source": [
    "file.readlines()"
   ]
  },
  {
   "cell_type": "code",
   "execution_count": 61,
   "metadata": {},
   "outputs": [],
   "source": [
    "file = open('DATA/AustralianAnimals.txt')"
   ]
  },
  {
   "cell_type": "code",
   "execution_count": 62,
   "metadata": {},
   "outputs": [
    {
     "data": {
      "text/plain": [
       "['Kangaroo, marsupial\\n',\n",
       " 'Koala, marsupial\\n',\n",
       " 'Wallaby, marsupial\\n',\n",
       " 'Echidna, monotreme\\n',\n",
       " 'Dingo, mammal\\n',\n",
       " 'Tasmanian devil, marsupial\\n',\n",
       " 'Platypus, monotreme\\n',\n",
       " 'Tasmanian devil, marsupial']"
      ]
     },
     "execution_count": 62,
     "metadata": {},
     "output_type": "execute_result"
    }
   ],
   "source": [
    "file.readlines()"
   ]
  },
  {
   "cell_type": "code",
   "execution_count": 63,
   "metadata": {},
   "outputs": [],
   "source": [
    "file.close()"
   ]
  },
  {
   "cell_type": "code",
   "execution_count": 64,
   "metadata": {},
   "outputs": [],
   "source": [
    "file = open('DATA/AustralianAnimals.txt')"
   ]
  },
  {
   "cell_type": "code",
   "execution_count": 65,
   "metadata": {},
   "outputs": [],
   "source": [
    "s = file.readlines()"
   ]
  },
  {
   "cell_type": "code",
   "execution_count": 66,
   "metadata": {},
   "outputs": [],
   "source": [
    "file.close()"
   ]
  },
  {
   "cell_type": "code",
   "execution_count": 67,
   "metadata": {},
   "outputs": [
    {
     "data": {
      "text/plain": [
       "['Kangaroo, marsupial\\n',\n",
       " 'Koala, marsupial\\n',\n",
       " 'Wallaby, marsupial\\n',\n",
       " 'Echidna, monotreme\\n',\n",
       " 'Dingo, mammal\\n',\n",
       " 'Tasmanian devil, marsupial\\n',\n",
       " 'Platypus, monotreme\\n',\n",
       " 'Tasmanian devil, marsupial']"
      ]
     },
     "execution_count": 67,
     "metadata": {},
     "output_type": "execute_result"
    }
   ],
   "source": [
    "s[:]"
   ]
  },
  {
   "cell_type": "code",
   "execution_count": 68,
   "metadata": {},
   "outputs": [
    {
     "data": {
      "text/plain": [
       "['Kangaroo, marsupial\\n']"
      ]
     },
     "execution_count": 68,
     "metadata": {},
     "output_type": "execute_result"
    }
   ],
   "source": [
    "s[0:1]"
   ]
  },
  {
   "cell_type": "code",
   "execution_count": 69,
   "metadata": {},
   "outputs": [
    {
     "data": {
      "text/plain": [
       "['Koala, marsupial\\n', 'Wallaby, marsupial\\n']"
      ]
     },
     "execution_count": 69,
     "metadata": {},
     "output_type": "execute_result"
    }
   ],
   "source": [
    "s[1:3]"
   ]
  },
  {
   "cell_type": "code",
   "execution_count": 70,
   "metadata": {},
   "outputs": [
    {
     "data": {
      "text/plain": [
       "'Tasmanian devil, marsupial'"
      ]
     },
     "execution_count": 70,
     "metadata": {},
     "output_type": "execute_result"
    }
   ],
   "source": [
    "s[-1]"
   ]
  },
  {
   "cell_type": "code",
   "execution_count": 71,
   "metadata": {},
   "outputs": [
    {
     "data": {
      "text/plain": [
       "['Kangaroo, marsupial',\n",
       " 'Koala, marsupial',\n",
       " 'Wallaby, marsupial',\n",
       " 'Echidna, monotreme',\n",
       " 'Dingo, mammal',\n",
       " 'Tasmanian devil, marsupial',\n",
       " 'Platypus, monotreme',\n",
       " 'Tasmanian devil, marsupial']"
      ]
     },
     "execution_count": 71,
     "metadata": {},
     "output_type": "execute_result"
    }
   ],
   "source": [
    "[a.strip() for a in s]"
   ]
  },
  {
   "cell_type": "code",
   "execution_count": 72,
   "metadata": {},
   "outputs": [
    {
     "data": {
      "text/plain": [
       "['Kangaroo, marsupial\\n',\n",
       " 'Koala, marsupial\\n',\n",
       " 'Wallaby, marsupial\\n',\n",
       " 'Echidna, monotreme\\n',\n",
       " 'Dingo, mammal\\n',\n",
       " 'Tasmanian devil, marsupial\\n',\n",
       " 'Platypus, monotreme\\n',\n",
       " 'Tasmanian devil, marsupial']"
      ]
     },
     "execution_count": 72,
     "metadata": {},
     "output_type": "execute_result"
    }
   ],
   "source": [
    "s[:]"
   ]
  },
  {
   "cell_type": "code",
   "execution_count": 73,
   "metadata": {},
   "outputs": [],
   "source": [
    "stripped = [a.strip() for a in s]"
   ]
  },
  {
   "cell_type": "code",
   "execution_count": 74,
   "metadata": {},
   "outputs": [
    {
     "data": {
      "text/plain": [
       "['Kangaroo, marsupial',\n",
       " 'Koala, marsupial',\n",
       " 'Wallaby, marsupial',\n",
       " 'Echidna, monotreme',\n",
       " 'Dingo, mammal',\n",
       " 'Tasmanian devil, marsupial',\n",
       " 'Platypus, monotreme',\n",
       " 'Tasmanian devil, marsupial']"
      ]
     },
     "execution_count": 74,
     "metadata": {},
     "output_type": "execute_result"
    }
   ],
   "source": [
    "stripped[:]"
   ]
  },
  {
   "cell_type": "code",
   "execution_count": 75,
   "metadata": {},
   "outputs": [],
   "source": [
    "duplicates_removed = set(stripped)"
   ]
  },
  {
   "cell_type": "code",
   "execution_count": 76,
   "metadata": {},
   "outputs": [
    {
     "data": {
      "text/plain": [
       "{'Dingo, mammal',\n",
       " 'Echidna, monotreme',\n",
       " 'Kangaroo, marsupial',\n",
       " 'Koala, marsupial',\n",
       " 'Platypus, monotreme',\n",
       " 'Tasmanian devil, marsupial',\n",
       " 'Wallaby, marsupial'}"
      ]
     },
     "execution_count": 76,
     "metadata": {},
     "output_type": "execute_result"
    }
   ],
   "source": [
    "duplicates_removed"
   ]
  },
  {
   "cell_type": "code",
   "execution_count": null,
   "metadata": {},
   "outputs": [],
   "source": []
  }
 ],
 "metadata": {
  "kernelspec": {
   "display_name": "Python 3",
   "language": "python",
   "name": "python3"
  },
  "language_info": {
   "codemirror_mode": {
    "name": "ipython",
    "version": 3
   },
   "file_extension": ".py",
   "mimetype": "text/x-python",
   "name": "python",
   "nbconvert_exporter": "python",
   "pygments_lexer": "ipython3",
   "version": "3.7.4"
  }
 },
 "nbformat": 4,
 "nbformat_minor": 4
}
